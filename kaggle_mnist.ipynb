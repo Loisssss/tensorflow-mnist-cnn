{
 "cells": [
  {
   "cell_type": "code",
   "execution_count": 1,
   "metadata": {},
   "outputs": [],
   "source": [
    "import pandas as pd\n",
    "import matplotlib.pyplot as plt\n",
    "import tensorflow as tf\n",
    "import numpy as np # linear algebra\n",
    "from sklearn.model_selection import train_test_split\n",
    "import matplotlib.cm as cm\n",
    "import seaborn as sns"
   ]
  },
  {
   "cell_type": "code",
   "execution_count": 2,
   "metadata": {},
   "outputs": [],
   "source": [
    "train_file = \"/home/yaoling/Desktop/githubProject/tensorflow-mnist-cnn/kaggleData/train.csv\"\n",
    "test_file = \"/home/yaoling/Desktop/githubProject/tensorflow-mnist-cnn/kaggleData/test.csv\"\n",
    "output_file = \"/home/yaoling/Desktop/githubProject/tensorflow-mnist-cnn/kaggleData/submission.csv\""
   ]
  },
  {
   "cell_type": "code",
   "execution_count": 3,
   "metadata": {},
   "outputs": [
    {
     "data": {
      "text/plain": [
       "(42000, 785)"
      ]
     },
     "execution_count": 3,
     "metadata": {},
     "output_type": "execute_result"
    }
   ],
   "source": [
    "train = pd.read_csv(train_file)\n",
    "train.shape"
   ]
  },
  {
   "cell_type": "code",
   "execution_count": 4,
   "metadata": {},
   "outputs": [],
   "source": [
    "# X_train_all = train.drop('label', axis=1)\n",
    "# #normalize the data\n",
    "# X_train_all = X_train_all / 255.0\n",
    "# X_train_all.shape"
   ]
  },
  {
   "cell_type": "code",
   "execution_count": 5,
   "metadata": {},
   "outputs": [],
   "source": [
    "# Y = train.label\n",
    "# Y.shape"
   ]
  },
  {
   "cell_type": "code",
   "execution_count": 6,
   "metadata": {},
   "outputs": [],
   "source": [
    "# #read image\n",
    "# plt.figure(figsize=(8,8))\n",
    "# for i in range (25) :\n",
    "#     plt.subplot(5,5,i+1)\n",
    "#     plt.xticks([])\n",
    "#     plt.yticks([])\n",
    "#     plt.xlabel(Y[i])\n",
    "#     plt.imshow(X_train_all.iloc[i,:].values.reshape(28,28))"
   ]
  },
  {
   "cell_type": "code",
   "execution_count": 7,
   "metadata": {},
   "outputs": [],
   "source": [
    "# X_train, X_test, Y_train, Y_test = train_test_split(X_train_all, Y, test_size=0.3, random_state=42)\n"
   ]
  },
  {
   "cell_type": "code",
   "execution_count": 8,
   "metadata": {},
   "outputs": [],
   "source": [
    "# from sklearn.linear_model import LogisticRegression\n",
    "# from sklearn.svm import SVC, LinearSVC\n",
    "# from sklearn.ensemble import RandomForestClassifier\n",
    "# from sklearn.neighbors import KNeighborsClassifier\n",
    "# from sklearn.naive_bayes import GaussianNB\n",
    "# from sklearn.linear_model import Perceptron\n",
    "# from sklearn.linear_model import SGDClassifier\n",
    "# from sklearn.tree import DecisionTreeClassifier\n",
    "# from sklearn.metrics import make_scorer, accuracy_score\n",
    "# import sys"
   ]
  },
  {
   "cell_type": "code",
   "execution_count": 9,
   "metadata": {},
   "outputs": [],
   "source": [
    "# models = {\n",
    "# #     'LogisticRegression': LogisticRegression(),\n",
    "#     'SVC': SVC(),\n",
    "# #     'RandomForest': RandomForestClassifier(n_estimators=100)\n",
    "# }"
   ]
  },
  {
   "cell_type": "code",
   "execution_count": 10,
   "metadata": {},
   "outputs": [],
   "source": [
    "# maxAccuracy = float(-sys.maxsize)\n",
    "# for model in models:\n",
    "#     currentModel = models[model]\n",
    "#     currentModel.fit(X_train, Y_train)\n",
    "#     prediction = currentModel.predict(X_test)\n",
    "#     accuracy = accuracy_score(Y_test, prediction)\n",
    "#     print(str(model) + ': ' + str(accuracy))\n",
    "#     print('-----------------------')\n",
    "#     if accuracy > maxAccuracy:\n",
    "#         maxAccuracy = accuracy\n",
    "#         bestModel = currentModel\n",
    "# print('The best model is: ' + str(bestModel) + ' ' + str(maxAccuracy))"
   ]
  },
  {
   "cell_type": "code",
   "execution_count": 11,
   "metadata": {},
   "outputs": [],
   "source": [
    "# test = pd.read_csv(test_file) / 255.0\n",
    "# y = bestModel.predict(test)\n",
    "# y.shape"
   ]
  },
  {
   "cell_type": "code",
   "execution_count": 12,
   "metadata": {},
   "outputs": [],
   "source": [
    "# #reduce submission\n",
    "# submission = pd.DataFrame({\n",
    "#     'ImageId': list(range(1,len(y)+1)),\n",
    "#     'Label': y\n",
    "# })\n",
    "# submission.to_csv(output_file, index=False, header=True)"
   ]
  },
  {
   "cell_type": "code",
   "execution_count": 13,
   "metadata": {},
   "outputs": [],
   "source": [
    "# Encode labels to one hot vectors \n",
    "# (ex : 2 -> [0,0,1,0,0,0,0,0,0,0])\n",
    "def dense_to_one_hot(labels_dense, num_calsses):\n",
    "    num_labels = labels_dense.shape[0]\n",
    "    index_offset = np.arange(num_labels) * num_calsses\n",
    "    labels_one_hot = np.zeros((num_labels, num_calsses))\n",
    "    #flat返回的是一个迭代器\n",
    "    labels_one_hot.flat[index_offset + labels_dense.ravel()] = 1\n",
    "    return labels_one_hot\n"
   ]
  },
  {
   "cell_type": "code",
   "execution_count": 14,
   "metadata": {},
   "outputs": [
    {
     "name": "stdout",
     "output_type": "stream",
     "text": [
      "(42000, 785)\n"
     ]
    }
   ],
   "source": [
    "train_dataset = pd.read_csv(train_file)\n",
    "print(train_dataset.shape)\n"
   ]
  },
  {
   "cell_type": "code",
   "execution_count": 15,
   "metadata": {},
   "outputs": [
    {
     "data": {
      "image/png": "[encoded data removed]",
      "text/plain": [
       "<Figure size 432x288 with 1 Axes>"
      ]
     },
     "metadata": {},
     "output_type": "display_data"
    }
   ],
   "source": [
    "Y_train_all = train_dataset[\"label\"].values.ravel()\n",
    "g = sns.countplot(Y_train_all) \n"
   ]
  },
  {
   "cell_type": "code",
   "execution_count": 16,
   "metadata": {},
   "outputs": [
    {
     "name": "stdout",
     "output_type": "stream",
     "text": [
      "(42000, 10)\n",
      "图片大小为： 784 pixels\n",
      "图片长度和高度为： 784\n"
     ]
    }
   ],
   "source": [
    "Y_train_all = dense_to_one_hot(Y_train_all, 10)\n",
    "print(Y_train_all.shape)\n",
    "\n",
    "# Drop the label colum in train dataset\n",
    "X_train_all = train_dataset.drop(labels=\"label\", axis=1).values\n",
    "print(\"图片大小为：\", str(X_train_all.shape[1]) + \" pixels\")\n",
    "\n",
    "# normalize the data\n",
    "X_train_all = X_train_all / 255.0\n",
    "\n",
    "print(\"图片长度和高度为： \" + str(X_train_all.shape[1]))\n"
   ]
  },
  {
   "cell_type": "code",
   "execution_count": 17,
   "metadata": {},
   "outputs": [
    {
     "name": "stdout",
     "output_type": "stream",
     "text": [
      "X_train shape (33600, 784)\n",
      "Y_train shape (33600, 10)\n",
      "X_test shape (8400, 784)\n",
      "Y_test shape (8400, 10)\n"
     ]
    }
   ],
   "source": [
    "X_train, X_test, Y_train, Y_test = train_test_split(X_train_all, Y_train_all, test_size=0.2, random_state=2)\n",
    "print(\"X_train shape\", X_train.shape)\n",
    "print(\"Y_train shape\", Y_train.shape)\n",
    "print(\"X_test shape\", X_test.shape)\n",
    "print(\"Y_test shape\", Y_test.shape)"
   ]
  },
  {
   "cell_type": "code",
   "execution_count": 18,
   "metadata": {},
   "outputs": [
    {
     "data": {
      "image/png": "[encoded data removed]",
      "text/plain": [
       "<Figure size 432x288 with 1 Axes>"
      ]
     },
     "metadata": {},
     "output_type": "display_data"
    }
   ],
   "source": [
    "# display image\n",
    "def display(img):\n",
    "    # (784) => (28,28)\n",
    "    one_image = img.reshape(28,28)\n",
    "    plt.axis('on')\n",
    "    plt.imshow(one_image, cmap=cm.binary)\n",
    "\n",
    "# output image     \n",
    "display(X_train[2])  "
   ]
  },
  {
   "cell_type": "code",
   "execution_count": 19,
   "metadata": {},
   "outputs": [],
   "source": [
    "\n",
    "def weight_variable(shape):\n",
    "    initial = tf.truncated_normal(shape, stddev=0.1, name='Weights')\n",
    "    return tf.Variable(initial)\n",
    "\n",
    "def bias_variable(shape):\n",
    "    initial = tf.constant(0.1, shape=shape, name='Bias')\n",
    "    return tf.Variable(initial)\n",
    "\n",
    "# 定义卷积和池化函数,两边两个值默认为1，中间两个1代表分别从x方向以及y方向的步长\n",
    "def conv2d(input, filter):\n",
    "    return tf.nn.conv2d(input, filter, strides=[1,1,1,1], padding='SAME')\n",
    "\n",
    "def max_pooling(input):\n",
    "    return tf.nn.max_pool(input, ksize=[1,2,2,1], strides=[1,2,2,1], padding='SAME')\n",
    "\n"
   ]
  },
  {
   "cell_type": "code",
   "execution_count": 20,
   "metadata": {},
   "outputs": [],
   "source": [
    "\n",
    "x = tf.placeholder(\"float\", [None, 784])\n",
    "y_ = tf.placeholder(\"float\", [None,10])"
   ]
  },
  {
   "cell_type": "code",
   "execution_count": 21,
   "metadata": {},
   "outputs": [],
   "source": [
    "keep_prob = tf.placeholder(tf.float32)\n",
    "\n",
    "X1 = tf.reshape(x, [-1, 28, 28, 1])\n",
    "w_conv1 = weight_variable([5,5,1,32]) #定义滤波器\n",
    "b_conv1 = bias_variable([32])   #每个滤波器对应一个bias\n",
    "h_conv1 = tf.nn.relu(conv2d(X1, w_conv1) + b_conv1)\n",
    "h_pool1 = max_pooling(h_conv1)\n",
    "\n",
    "#----------------------------conv2---------------------------\n",
    "w_conv2 = weight_variable([3,3,32,64])\n",
    "b_conv2 = bias_variable([64])\n",
    "h_conv2 = tf.nn.relu(conv2d(h_pool1, w_conv2) + b_conv2)\n",
    "h_pool2 = max_pooling(h_conv2)\n",
    "\n",
    "h_pool2_flat = tf.reshape(h_pool2, [-1, 7*7*64])\n",
    "\n",
    "#----------------------------fc layer------------------------\n",
    "w_fc2 = weight_variable([7*7*64,10])\n",
    "b_fc2 = bias_variable([10])\n",
    "with tf.name_scope(\"Prediction_softmax\"):\n",
    "    prediction = tf.nn.softmax(tf.matmul(h_pool2_flat, w_fc2) + b_fc2, name='prediction')\n",
    "\n",
    "    "
   ]
  },
  {
   "cell_type": "code",
   "execution_count": 22,
   "metadata": {},
   "outputs": [],
   "source": [
    "#(小处理)将logits乘以1赋值给logits_eval，定义name，方便在后续调用模型时通过tensor名字调用输出tensor\n",
    "b = tf.constant(value=1,dtype=tf.float32)\n",
    "logits_eval = tf.multiply(prediction,b,name='logits_eval')"
   ]
  },
  {
   "cell_type": "code",
   "execution_count": 23,
   "metadata": {},
   "outputs": [],
   "source": [
    "with tf.name_scope(\"Accuracy\"):\n",
    "    with tf.name_scope(\"Correct_Prediction\"):\n",
    "        # 完成训练后，对模型的准确率进行验证\n",
    "        correct_prediction = tf.equal(tf.argmax(prediction, 1), tf.argmax(y_, 1))\n",
    "    with tf.name_scope(\"accuracy\"):\n",
    "        accuracy = tf.reduce_mean(tf.cast(correct_prediction, tf.float32))\n"
   ]
  },
  {
   "cell_type": "code",
   "execution_count": 24,
   "metadata": {},
   "outputs": [
    {
     "name": "stdout",
     "output_type": "stream",
     "text": [
      "WARNING:tensorflow:From <ipython-input-24-e68d47ef0277>:2: softmax_cross_entropy_with_logits (from tensorflow.python.ops.nn_ops) is deprecated and will be removed in a future version.\n",
      "Instructions for updating:\n",
      "\n",
      "Future major versions of TensorFlow will allow gradients to flow\n",
      "into the labels input on backprop by default.\n",
      "\n",
      "See @{tf.nn.softmax_cross_entropy_with_logits_v2}.\n",
      "\n"
     ]
    }
   ],
   "source": [
    "with tf.name_scope(\"Loss\"):\n",
    "    cross_entroy = tf.reduce_mean(tf.nn.softmax_cross_entropy_with_logits(labels=y_, logits=prediction))\n",
    "\n",
    "with tf.name_scope(\"TrainStep_AdamOptimizer\"):\n",
    "    train_step = tf.train.AdamOptimizer(learning_rate=(0.001)).minimize(cross_entroy)\n",
    "\n"
   ]
  },
  {
   "cell_type": "code",
   "execution_count": 25,
   "metadata": {},
   "outputs": [
    {
     "name": "stdout",
     "output_type": "stream",
     "text": [
      "第1轮，测试集准确度为：0.96261907\n",
      "----------------------\n",
      "第2轮，测试集准确度为：0.9725\n",
      "----------------------\n",
      "第3轮，测试集准确度为：0.9747619\n",
      "----------------------\n",
      "第4轮，测试集准确度为：0.9779762\n",
      "----------------------\n",
      "第5轮，测试集准确度为：0.9745238\n",
      "----------------------\n",
      "第6轮，测试集准确度为：0.98083335\n",
      "----------------------\n",
      "第7轮，测试集准确度为：0.9811905\n",
      "----------------------\n",
      "第8轮，测试集准确度为：0.9811905\n",
      "----------------------\n",
      "第9轮，测试集准确度为：0.98202384\n",
      "----------------------\n",
      "第10轮，测试集准确度为：0.98440474\n",
      "----------------------\n",
      "第11轮，测试集准确度为：0.98464286\n",
      "----------------------\n",
      "第12轮，测试集准确度为：0.98535717\n",
      "----------------------\n",
      "第13轮，测试集准确度为：0.9840476\n",
      "----------------------\n",
      "第14轮，测试集准确度为：0.98452383\n",
      "----------------------\n",
      "第15轮，测试集准确度为：0.9848809\n",
      "----------------------\n"
     ]
    }
   ],
   "source": [
    "sess = tf.Session()\n",
    "sess.run(tf.global_variables_initializer())\n",
    "batch_size = 64\n",
    "n_batch = len(X_train) // batch_size\n",
    "for i in range(15):\n",
    "    for batch in range(n_batch):\n",
    "        batch_x = X_train[batch*batch_size:(batch+1)*batch_size]\n",
    "        batch_y = Y_train[batch*batch_size:(batch+1)*batch_size]\n",
    "#         train on batch\n",
    "        sess.run(train_step,feed_dict\n",
    "                 ={x: batch_x, y_: batch_y, keep_prob:0.5})\n",
    "#     accuracy_n2 = sess.run(accuracy, feed_dict={x:X_train, y_:Y_train})\n",
    "    accuracy_n = sess.run(accuracy, feed_dict={x:X_test, y_:Y_test})\n",
    "#     print(\"第\"+str(i+1)+\"轮，训练集准确度为：\" + str(accuracy_n2))\n",
    "    print(\"第\"+str(i+1)+\"轮，测试集准确度为：\" + str(accuracy_n))\n",
    "    print(\"----------------------\")\n"
   ]
  },
  {
   "cell_type": "code",
   "execution_count": 26,
   "metadata": {},
   "outputs": [
    {
     "name": "stdout",
     "output_type": "stream",
     "text": [
      "(28000, 784)\n"
     ]
    }
   ],
   "source": [
    "test_dataset = pd.read_csv(test_file)\n",
    "test_dataset = test_dataset / 255.0\n",
    "print(test_dataset.shape)\n",
    "predict = tf.argmax(prediction, 1)\n",
    "num_batch = test_dataset.shape[0] // batch_size\n",
    "predicted_lables = np.zeros(test_dataset.shape[0])\n",
    "for i in range(num_batch):\n",
    "    predicted_lables[i*batch_size : (i+1)*batch_size] = sess.run(predict,feed_dict={x: test_dataset[i*batch_size : (i+1)*batch_size]})\n",
    "\n",
    "# save results\n",
    "np.savetxt(output_file, \n",
    "           np.c_[range(1,len(test_dataset)+1),predicted_lables], \n",
    "           delimiter=',', \n",
    "           header = 'ImageId,Label', \n",
    "           comments = '', \n",
    "           fmt='%d')\n"
   ]
  },
  {
   "cell_type": "code",
   "execution_count": null,
   "metadata": {},
   "outputs": [],
   "source": []
  }
 ],
 "metadata": {
  "kernelspec": {
   "display_name": "Python 3",
   "language": "python",
   "name": "python3"
  },
  "language_info": {
   "codemirror_mode": {
    "name": "ipython",
    "version": 3
   },
   "file_extension": ".py",
   "mimetype": "text/x-python",
   "name": "python",
   "nbconvert_exporter": "python",
   "pygments_lexer": "ipython3",
   "version": "3.6.7"
  }
 },
 "nbformat": 4,
 "nbformat_minor": 2
}
