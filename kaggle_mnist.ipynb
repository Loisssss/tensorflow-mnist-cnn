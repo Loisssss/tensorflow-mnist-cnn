{
 "cells": [
  {
   "cell_type": "code",
   "execution_count": 1,
   "metadata": {},
   "outputs": [],
   "source": [
    "import pandas as pd\n",
    "import matplotlib.pyplot as plt\n",
    "import tensorflow as tf\n",
    "import numpy as np # linear algebra\n",
    "from sklearn.model_selection import train_test_split\n",
    "import matplotlib.cm as cm\n"
   ]
  },
  {
   "cell_type": "code",
   "execution_count": 2,
   "metadata": {},
   "outputs": [],
   "source": [
    "train_file = \"/home/yaoling/Desktop/githubProject/tensorflow-mnist-cnn/kaggleData/train.csv\"\n",
    "test_file = \"/home/yaoling/Desktop/githubProject/tensorflow-mnist-cnn/kaggleData/test.csv\"\n",
    "output_file = \"/home/yaoling/Desktop/githubProject/tensorflow-mnist-cnn/kaggleData/submission.csv\""
   ]
  },
  {
   "cell_type": "code",
   "execution_count": 3,
   "metadata": {},
   "outputs": [],
   "source": [
    "def dense_to_one_hot(labels_dense, num_calsses):\n",
    "    num_labels = labels_dense.shape[0]\n",
    "    index_offset = np.arange(num_labels) * num_calsses\n",
    "    labels_one_hot = np.zeros((num_labels, num_calsses))\n",
    "    #flat返回的是一个迭代器\n",
    "    labels_one_hot.flat[index_offset + labels_dense.ravel()] = 1\n",
    "    return labels_one_hot\n"
   ]
  },
  {
   "cell_type": "code",
   "execution_count": 4,
   "metadata": {},
   "outputs": [
    {
     "name": "stdout",
     "output_type": "stream",
     "text": [
      "(42000, 785)\n"
     ]
    }
   ],
   "source": [
    "train_dataset = pd.read_csv(train_file)\n",
    "print(train_dataset.shape)\n"
   ]
  },
  {
   "cell_type": "code",
   "execution_count": 5,
   "metadata": {},
   "outputs": [
    {
     "name": "stdout",
     "output_type": "stream",
     "text": [
      "(42000, 10)\n",
      "图片大小为： 784 pixels\n",
      "图片长度和高度为： 784\n"
     ]
    }
   ],
   "source": [
    "Y_train_all = train_dataset[\"label\"].values.ravel()\n",
    "Y_train_all = dense_to_one_hot(Y_train_all, 10)\n",
    "print(Y_train_all.shape)\n",
    "\n",
    "# Drop the label colum in train dataset\n",
    "X_train_all = train_dataset.drop(labels=\"label\", axis=1).values\n",
    "print(\"图片大小为：\", str(X_train_all.shape[1]) + \" pixels\")\n",
    "\n",
    "X_train_all = np.multiply(X_train_all, 1.0 / 255.0)\n",
    "\n",
    "print(\"图片长度和高度为： \" + str(X_train_all.shape[1]))\n"
   ]
  },
  {
   "cell_type": "code",
   "execution_count": 6,
   "metadata": {},
   "outputs": [
    {
     "name": "stdout",
     "output_type": "stream",
     "text": [
      "X_train shape (33600, 784)\n",
      "Y_train shape (33600, 10)\n",
      "X_test shape (8400, 784)\n",
      "Y_test shape (8400, 10)\n"
     ]
    }
   ],
   "source": [
    "X_train, X_test, Y_train, Y_test = train_test_split(X_train_all, Y_train_all, test_size=0.2)\n",
    "print(\"X_train shape\", X_train.shape)\n",
    "print(\"Y_train shape\", Y_train.shape)\n",
    "print(\"X_test shape\", X_test.shape)\n",
    "print(\"Y_test shape\", Y_test.shape)"
   ]
  },
  {
   "cell_type": "code",
   "execution_count": 7,
   "metadata": {},
   "outputs": [
    {
     "data": {
      "image/png": "[encoded data removed]",
      "text/plain": [
       "<Figure size 432x288 with 1 Axes>"
      ]
     },
     "metadata": {},
     "output_type": "display_data"
    }
   ],
   "source": [
    "# display image\n",
    "def display(img):\n",
    "    # (784) => (28,28)\n",
    "    one_image = img.reshape(28,28)\n",
    "    plt.axis('on')\n",
    "    plt.imshow(one_image, cmap=cm.binary)\n",
    "\n",
    "# output image     \n",
    "display(X_train[2])  "
   ]
  },
  {
   "cell_type": "code",
   "execution_count": 8,
   "metadata": {},
   "outputs": [],
   "source": [
    "\n",
    "def weight_variable(shape):\n",
    "    initial = tf.truncated_normal(shape, stddev=0.1, name='Weights')\n",
    "    return tf.Variable(initial)\n",
    "\n",
    "def bias_variable(shape):\n",
    "    initial = tf.constant(0.1, shape=shape, name='Bias')\n",
    "    return tf.Variable(initial)\n",
    "\n",
    "# 定义卷积和池化函数,两边两个值默认为1，中间两个1代表分别从x方向以及y方向的步长\n",
    "def conv2d(input, filter):\n",
    "    return tf.nn.conv2d(input, filter, strides=[1,1,1,1], padding='SAME')\n",
    "\n",
    "def max_pooling(input):\n",
    "    return tf.nn.max_pool(input, ksize=[1,2,2,1], strides=[1,2,2,1], padding='SAME')\n",
    "\n"
   ]
  },
  {
   "cell_type": "code",
   "execution_count": 9,
   "metadata": {},
   "outputs": [],
   "source": [
    "\n",
    "x = tf.placeholder(\"float\", [None, 784])\n",
    "y_ = tf.placeholder(\"float\", [None,10])"
   ]
  },
  {
   "cell_type": "code",
   "execution_count": 10,
   "metadata": {},
   "outputs": [],
   "source": [
    "keep_prob = tf.placeholder(tf.float32)\n",
    "\n",
    "X1 = tf.reshape(x, [-1, 28, 28, 1])\n",
    "w_conv1 = weight_variable([5,5,1,32]) #定义滤波器\n",
    "b_conv1 = bias_variable([32])   #每个滤波器对应一个bias\n",
    "h_conv1 = tf.nn.relu(conv2d(X1, w_conv1) + b_conv1)\n",
    "h_pool1 = max_pooling(h_conv1)\n",
    "\n",
    "h_pool2_flat = tf.reshape(h_pool1, [-1, 14*14*32])\n",
    "\n",
    "#----------------------------fc layer------------------------\n",
    "w_fc2 = weight_variable([14*14*32,10])\n",
    "b_fc2 = bias_variable([10])\n",
    "with tf.name_scope(\"Prediction_softmax\"):\n",
    "    prediction = tf.nn.softmax(tf.matmul(h_pool2_flat, w_fc2) + b_fc2, name='prediction')\n",
    "\n",
    "    "
   ]
  },
  {
   "cell_type": "code",
   "execution_count": 11,
   "metadata": {},
   "outputs": [],
   "source": [
    "#(小处理)将logits乘以1赋值给logits_eval，定义name，方便在后续调用模型时通过tensor名字调用输出tensor\n",
    "b = tf.constant(value=1,dtype=tf.float32)\n",
    "logits_eval = tf.multiply(prediction,b,name='logits_eval')"
   ]
  },
  {
   "cell_type": "code",
   "execution_count": 12,
   "metadata": {},
   "outputs": [],
   "source": [
    "with tf.name_scope(\"Accuracy\"):\n",
    "    with tf.name_scope(\"Correct_Prediction\"):\n",
    "        # 完成训练后，对模型的准确率进行验证\n",
    "        correct_prediction = tf.equal(tf.argmax(prediction, 1), tf.argmax(y_, 1))\n",
    "    with tf.name_scope(\"accuracy\"):\n",
    "        accuracy = tf.reduce_mean(tf.cast(correct_prediction, tf.float32))\n"
   ]
  },
  {
   "cell_type": "code",
   "execution_count": 13,
   "metadata": {},
   "outputs": [
    {
     "name": "stdout",
     "output_type": "stream",
     "text": [
      "WARNING:tensorflow:From <ipython-input-13-3d2b6ea0bfba>:2: softmax_cross_entropy_with_logits (from tensorflow.python.ops.nn_ops) is deprecated and will be removed in a future version.\n",
      "Instructions for updating:\n",
      "\n",
      "Future major versions of TensorFlow will allow gradients to flow\n",
      "into the labels input on backprop by default.\n",
      "\n",
      "See @{tf.nn.softmax_cross_entropy_with_logits_v2}.\n",
      "\n"
     ]
    }
   ],
   "source": [
    "with tf.name_scope(\"Loss\"):\n",
    "    cross_entroy = tf.reduce_mean(tf.nn.softmax_cross_entropy_with_logits(labels=y_, logits=prediction))\n",
    "\n",
    "with tf.name_scope(\"TrainStep_AdamOptimizer\"):\n",
    "    train_step = tf.train.AdamOptimizer(learning_rate=(0.01)).minimize(cross_entroy)\n",
    "\n"
   ]
  },
  {
   "cell_type": "code",
   "execution_count": null,
   "metadata": {},
   "outputs": [
    {
     "name": "stdout",
     "output_type": "stream",
     "text": [
      "第1轮，测试集准确度为：0.39809525\n",
      "----------------------\n",
      "第2轮，测试集准确度为：0.78761905\n",
      "----------------------\n",
      "第3轮，测试集准确度为：0.79011905\n",
      "----------------------\n",
      "第4轮，测试集准确度为：0.7897619\n",
      "----------------------\n",
      "第5轮，测试集准确度为：0.79214287\n",
      "----------------------\n",
      "第6轮，测试集准确度为：0.7942857\n",
      "----------------------\n"
     ]
    }
   ],
   "source": [
    "sess = tf.Session()\n",
    "sess.run(tf.global_variables_initializer())\n",
    "batch_size = 128\n",
    "n_batch = len(X_train) // batch_size\n",
    "for i in range(40):\n",
    "    for batch in range(n_batch):\n",
    "        batch_x = X_train[batch*batch_size:(batch+1)*batch_size]\n",
    "        batch_y = Y_train[batch*batch_size:(batch+1)*batch_size]\n",
    "#         train on batch\n",
    "        sess.run(train_step,feed_dict\n",
    "                 ={x: batch_x, y_: batch_y, keep_prob:0.5})\n",
    "#     accuracy_n2 = sess.run(accuracy, feed_dict={x:X_train, y_:Y_train})\n",
    "    accuracy_n = sess.run(accuracy, feed_dict={x:X_test, y_:Y_test})\n",
    "#     print(\"第\"+str(i+1)+\"轮，训练集准确度为：\" + str(accuracy_n2))\n",
    "    print(\"第\"+str(i+1)+\"轮，测试集准确度为：\" + str(accuracy_n))\n",
    "    print(\"----------------------\")\n"
   ]
  },
  {
   "cell_type": "code",
   "execution_count": null,
   "metadata": {},
   "outputs": [],
   "source": [
    "test_dataset = pd.read_csv(test_file)\n",
    "test_dataset = np.multiply(test_dataset, 1.0 / 255.0)\n",
    "print(test_dataset.shape)\n",
    "predict = tf.argmax(prediction, 1)\n",
    "num_batch = test_dataset.shape[0] // batch_size\n",
    "predicted_lables = np.zeros(test_dataset.shape[0])\n",
    "for i in range(num_batch):\n",
    "    predicted_lables[i*batch_size : (i+1)*batch_size] = sess.run(predict,feed_dict={x: test_dataset[i*batch_size : (i+1)*batch_size]})\n",
    "\n",
    "# save results\n",
    "np.savetxt(output_file, \n",
    "           np.c_[range(1,len(test_dataset)+1),predicted_lables], \n",
    "           delimiter=',', \n",
    "           header = 'ImageId,Label', \n",
    "           comments = '', \n",
    "           fmt='%d')\n"
   ]
  },
  {
   "cell_type": "code",
   "execution_count": null,
   "metadata": {},
   "outputs": [],
   "source": []
  }
 ],
 "metadata": {
  "kernelspec": {
   "display_name": "Python 3",
   "language": "python",
   "name": "python3"
  },
  "language_info": {
   "codemirror_mode": {
    "name": "ipython",
    "version": 3
   },
   "file_extension": ".py",
   "mimetype": "text/x-python",
   "name": "python",
   "nbconvert_exporter": "python",
   "pygments_lexer": "ipython3",
   "version": "3.6.7"
  }
 },
 "nbformat": 4,
 "nbformat_minor": 2
}
